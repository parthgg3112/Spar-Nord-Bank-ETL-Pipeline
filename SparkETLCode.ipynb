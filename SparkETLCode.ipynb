{
 "cells": [
  {
   "cell_type": "code",
   "execution_count": 1,
   "id": "8bc0f067",
   "metadata": {},
   "outputs": [
    {
     "name": "stdout",
     "output_type": "stream",
     "text": [
      "Starting Spark application\n"
     ]
    },
    {
     "data": {
      "text/html": [
       "<table>\n",
       "<tr><th>ID</th><th>YARN Application ID</th><th>Kind</th><th>State</th><th>Spark UI</th><th>Driver log</th><th>User</th><th>Current session?</th></tr><tr><td>0</td><td>application_1698849447025_0002</td><td>pyspark</td><td>idle</td><td><a target=\"_blank\" href=\"http://ip-172-31-55-202.ec2.internal:20888/proxy/application_1698849447025_0002/\">Link</a></td><td><a target=\"_blank\" href=\"http://ip-172-31-50-171.ec2.internal:8042/node/containerlogs/container_1698849447025_0002_01_000001/livy\">Link</a></td><td>None</td><td>✔</td></tr></table>"
      ],
      "text/plain": [
       "<IPython.core.display.HTML object>"
      ]
     },
     "metadata": {},
     "output_type": "display_data"
    },
    {
     "data": {
      "application/vnd.jupyter.widget-view+json": {
       "model_id": "",
       "version_major": 2,
       "version_minor": 0
      },
      "text/plain": [
       "FloatProgress(value=0.0, bar_style='info', description='Progress:', layout=Layout(height='25px', width='50%'),…"
      ]
     },
     "metadata": {},
     "output_type": "display_data"
    },
    {
     "name": "stdout",
     "output_type": "stream",
     "text": [
      "SparkSession available as 'spark'.\n"
     ]
    },
    {
     "data": {
      "application/vnd.jupyter.widget-view+json": {
       "model_id": "",
       "version_major": 2,
       "version_minor": 0
      },
      "text/plain": [
       "FloatProgress(value=0.0, bar_style='info', description='Progress:', layout=Layout(height='25px', width='50%'),…"
      ]
     },
     "metadata": {},
     "output_type": "display_data"
    }
   ],
   "source": [
    "import pyspark\n",
    "from pyspark.sql import SparkSession\n",
    "from pyspark.sql.functions import *\n",
    "from pyspark.sql.types import *\n",
    "from pyspark.sql.window import Window"
   ]
  },
  {
   "cell_type": "code",
   "execution_count": 2,
   "id": "cbdb6355",
   "metadata": {},
   "outputs": [
    {
     "data": {
      "application/vnd.jupyter.widget-view+json": {
       "model_id": "",
       "version_major": 2,
       "version_minor": 0
      },
      "text/plain": [
       "FloatProgress(value=0.0, bar_style='info', description='Progress:', layout=Layout(height='25px', width='50%'),…"
      ]
     },
     "metadata": {},
     "output_type": "display_data"
    }
   ],
   "source": [
    "spark = SparkSession.builder\\\n",
    "                    .appName('Spar Nord Bank ATM')\\\n",
    "                    .master('local')\\\n",
    "                    .getOrCreate()"
   ]
  },
  {
   "cell_type": "code",
   "execution_count": 3,
   "id": "9c4452b2",
   "metadata": {},
   "outputs": [
    {
     "data": {
      "application/vnd.jupyter.widget-view+json": {
       "model_id": "",
       "version_major": 2,
       "version_minor": 0
      },
      "text/plain": [
       "FloatProgress(value=0.0, bar_style='info', description='Progress:', layout=Layout(height='25px', width='50%'),…"
      ]
     },
     "metadata": {},
     "output_type": "display_data"
    },
    {
     "name": "stdout",
     "output_type": "stream",
     "text": [
      "<pyspark.sql.session.SparkSession object at 0x7f27884c3190>"
     ]
    }
   ],
   "source": [
    "spark"
   ]
  },
  {
   "cell_type": "markdown",
   "id": "0a4f2736",
   "metadata": {},
   "source": [
    "### Loading the Spar Nord Bank ATM Data"
   ]
  },
  {
   "cell_type": "code",
   "execution_count": 4,
   "id": "2168bc26",
   "metadata": {},
   "outputs": [
    {
     "data": {
      "application/vnd.jupyter.widget-view+json": {
       "model_id": "",
       "version_major": 2,
       "version_minor": 0
      },
      "text/plain": [
       "FloatProgress(value=0.0, bar_style='info', description='Progress:', layout=Layout(height='25px', width='50%'),…"
      ]
     },
     "metadata": {},
     "output_type": "display_data"
    },
    {
     "name": "stdout",
     "output_type": "stream",
     "text": [
      "+----+-------+---+------+---+--------+---+---------------+------------------+--------------------+----+----+------+------+----+--------------------+----+----------+----+----+------+------+-------+--------------+------+----+----+----+----+-----+----+----+-------+--------------------+\n",
      "| _c0|    _c1|_c2|   _c3|_c4|     _c5|_c6|            _c7|               _c8|                 _c9|_c10|_c11|  _c12|  _c13|_c14|                _c15|_c16|      _c17|_c18|_c19|  _c20|  _c21|   _c22|          _c23|  _c24|_c25|_c26|_c27|_c28| _c29|_c30|_c31|   _c32|                _c33|\n",
      "+----+-------+---+------+---+--------+---+---------------+------------------+--------------------+----+----+------+------+----+--------------------+----+----------+----+----+------+------+-------+--------------+------+----+----+----+----+-----+----+----+-------+--------------------+\n",
      "|2017|January|  1|Sunday|  0|  Active|  1|            NCR|        NÃƒÂ¦stved|         Farimagsvej|   8|4700|55.233|11.763| DKK|          MasterCard|5643|Withdrawal|null|null| 55.23|11.761|2616038|      Naestved|281.15|1014|  87|   7| 260|0.215|  92| 500|   Rain|          light rain|\n",
      "|2017|January|  1|Sunday|  0|Inactive|  2|            NCR|          Vejgaard|          Hadsundvej|  20|9000|57.043|  9.95| DKK|          MasterCard|1764|Withdrawal|null|null|57.048| 9.935|2616235|NÃƒÂ¸rresundby|280.64|1020|  93|   9| 250| 0.59|  92| 500|   Rain|          light rain|\n",
      "|2017|January|  1|Sunday|  0|Inactive|  2|            NCR|          Vejgaard|          Hadsundvej|  20|9000|57.043|  9.95| DKK|                VISA|1891|Withdrawal|null|null|57.048| 9.935|2616235|NÃƒÂ¸rresundby|280.64|1020|  93|   9| 250| 0.59|  92| 500|   Rain|          light rain|\n",
      "|2017|January|  1|Sunday|  0|Inactive|  3|            NCR|             Ikast| RÃƒÂ¥dhusstrÃƒÂ¦det|  12|7430|56.139| 9.154| DKK|                VISA|4166|Withdrawal|null|null|56.139| 9.158|2619426|         Ikast|281.15|1011| 100|   6| 240|  0.0|  75| 300|Drizzle|light intensity d...|\n",
      "|2017|January|  1|Sunday|  0|  Active|  4|            NCR|        Svogerslev|        BrÃƒÂ¸nsager|   1|4000|55.634|12.018| DKK|          MasterCard|5153|Withdrawal|null|null|55.642| 12.08|2614481|      Roskilde|280.61|1014|  87|   7| 260|  0.0|  88| 701|   Mist|                mist|\n",
      "|2017|January|  1|Sunday|  0|  Active|  5|            NCR|              Nibe|              Torvet|   1|9240|56.983| 9.639| DKK|          MasterCard|3269|Withdrawal|null|null|56.981| 9.639|2616483|          Nibe|280.64|1020|  93|   9| 250| 0.59|  92| 500|   Rain|          light rain|\n",
      "|2017|January|  1|Sunday|  0|  Active|  6|            NCR|        Fredericia|    SjÃƒÂ¦llandsgade|  33|7000|55.564| 9.757| DKK|          MasterCard| 887|Withdrawal|null|null|55.566| 9.753|2621951|    Fredericia|281.15|1014|  93|   7| 230| 0.29|  92| 500|   Rain|          light rain|\n",
      "|2017|January|  1|Sunday|  0|  Active|  7|Diebold Nixdorf|         Hjallerup|   Hjallerup Centret|  18|9320|57.168|10.148| DKK|  Mastercard - on-us|4626|Withdrawal|null|null|57.165|10.146|2620275|     Hjallerup|280.64|1020|  93|   9| 250| 0.59|  92| 500|   Rain|          light rain|\n",
      "|2017|January|  1|Sunday|  0|  Active|  8|            NCR|       GlyngÃƒÂ¸re|         FÃƒÂ¦rgevej|   1|7870|56.762| 8.867| DKK|          MasterCard| 470|Withdrawal|null|null|56.793| 8.853|2615964| Nykobing Mors|281.15|1011| 100|   6| 240|  0.0|  75| 300|Drizzle|light intensity d...|\n",
      "|2017|January|  1|Sunday|  0|  Active|  9|Diebold Nixdorf|           Hadsund|           Storegade|  12|9560|56.716|10.114| DKK|                VISA|8473|Withdrawal|null|null|56.715|10.117|2620952|       Hadsund|280.64|1020|  93|   9| 250| 0.59|  92| 500|   Rain|          light rain|\n",
      "|2017|January|  1|Sunday|  0|  Active| 10|            NCR|    NÃƒÂ¸rresundby|              Torvet|   6|9400|57.059| 9.922| DKK|             Dankort| 953|Withdrawal|null|null|57.048| 9.919|2624886|       Aalborg|280.64|1020|  93|   9| 250| 0.59|  92| 500|   Rain|          light rain|\n",
      "|2017|January|  1|Sunday|  0|  Active| 11|            NCR|         Sauersvej|Fridtjof Nansens Vej|   2|9210|57.023|  9.94| DKK|        Visa Dankort|9346|Withdrawal|null|null|57.048| 9.935|2616235|NÃƒÂ¸rresundby|280.64|1020|  93|   9| 250| 0.59|  92| 500|   Rain|          light rain|\n",
      "|2017|January|  1|Sunday|  0|Inactive|  2|            NCR|          Vejgaard|          Hadsundvej|  20|9000|57.043|  9.95| DKK|  Mastercard - on-us|3874|Withdrawal|null|null|57.048| 9.935|2616235|NÃƒÂ¸rresundby|280.64|1020|  93|   9| 250| 0.59|  92| 500|   Rain|          light rain|\n",
      "|2017|January|  1|Sunday|  0|Inactive| 12|            NCR|ÃƒËœsterÃƒÂ¥  Duus|        ÃƒËœsterÃƒÂ¥|  12|9000|57.049| 9.922| DKK|  Mastercard - on-us|1329|Withdrawal|null|null|57.048| 9.919|2624886|       Aalborg|280.64|1020|  93|   9| 250| 0.59|  92| 500|   Rain|          light rain|\n",
      "|2017|January|  1|Sunday|  0|  Active| 13|            NCR|           SÃƒÂ¦by|          Vestergade|   3|9300|57.334|10.515| DKK|  Mastercard - on-us|5024|Withdrawal|null|null|57.441|10.537|2621927| Frederikshavn|281.14|1019|  94|  12| 251|1.275|  92| 500|   Rain|          light rain|\n",
      "|2017|January|  1|Sunday|  0|Inactive| 14|            NCR|        HÃƒÂ¸rning|        NÃƒÂ¸rrealle|  12|8362|56.086|10.037| DKK|Visa Dankort - on-us|1133|Withdrawal|null|null|56.157|10.211|2624652|         Arhus|281.15|1012|  87|   5| 250|  0.0|  92| 300|Drizzle|light intensity d...|\n",
      "|2017|January|  1|Sunday|  0|  Active| 15|            NCR|            Vestre|           Kastetvej|  36|9000|57.053| 9.905| DKK|          MasterCard| 594|Withdrawal|null|null|57.048| 9.919|2624886|       Aalborg|280.64|1020|  93|   9| 250| 0.59|  92| 500|   Rain|          light rain|\n",
      "|2017|January|  1|Sunday|  0|Inactive| 12|            NCR|ÃƒËœsterÃƒÂ¥  Duus|        ÃƒËœsterÃƒÂ¥|  12|9000|57.049| 9.922| DKK|  Mastercard - on-us|9570|Withdrawal|null|null|57.048| 9.919|2624886|       Aalborg|280.64|1020|  93|   9| 250| 0.59|  92| 500|   Rain|          light rain|\n",
      "|2017|January|  1|Sunday|  0|Inactive| 16|            NCR|             Skive|            Adelgade|   8|7800|56.567| 9.027| DKK|        Visa Dankort|6068|Withdrawal|null|null|56.567| 9.033|2613731|         Skive|281.15|1012| 100|   7| 240|  0.0|  75| 300|Drizzle|light intensity d...|\n",
      "|2017|January|  1|Sunday|  0|  Active| 17|            NCR|           Randers|        ÃƒËœstervold|  16|8900|56.462|10.038| DKK|                VISA|1630|Withdrawal|null|null|56.715|10.117|2620952|       Hadsund|280.64|1020|  93|   9| 250| 0.59|  92| 500|   Rain|          light rain|\n",
      "+----+-------+---+------+---+--------+---+---------------+------------------+--------------------+----+----+------+------+----+--------------------+----+----------+----+----+------+------+-------+--------------+------+----+----+----+----+-----+----+----+-------+--------------------+\n",
      "only showing top 20 rows"
     ]
    }
   ],
   "source": [
    "df = spark.read.load(path='/user/root/Spar_Nord_Bank_ATM_Data/part-m-00000',format='csv',inferSchema = True)\n",
    "df.show()"
   ]
  },
  {
   "cell_type": "markdown",
   "id": "bb1a7a11",
   "metadata": {},
   "source": [
    "Creating the schema since it has no columns"
   ]
  },
  {
   "cell_type": "markdown",
   "id": "6d0002f2",
   "metadata": {},
   "source": [
    "#### Creating the Schema"
   ]
  },
  {
   "cell_type": "code",
   "execution_count": 5,
   "id": "10b9bd04",
   "metadata": {},
   "outputs": [
    {
     "data": {
      "application/vnd.jupyter.widget-view+json": {
       "model_id": "",
       "version_major": 2,
       "version_minor": 0
      },
      "text/plain": [
       "FloatProgress(value=0.0, bar_style='info', description='Progress:', layout=Layout(height='25px', width='50%'),…"
      ]
     },
     "metadata": {},
     "output_type": "display_data"
    }
   ],
   "source": [
    "schema = StructType([StructField('year',IntegerType(),True),\n",
    "                     StructField('month',StringType(),True),\n",
    "                     StructField('day',IntegerType(),True),\n",
    "                     StructField('weekday',StringType(),True),\n",
    "                     StructField('hour',IntegerType(),True),\n",
    "                     StructField('atm_status',StringType(),True),\n",
    "                     StructField('atm_id',StringType(),True),\n",
    "                     StructField('atm_manufacturer',StringType(),True),\n",
    "                     StructField('atm_location',StringType(),True),\n",
    "                     StructField('atm_street_name',StringType(),True),\n",
    "                     StructField('atm_street_number',IntegerType(),True),\n",
    "                     StructField('atm_zip_code',IntegerType(),True),\n",
    "                     StructField('atm_lat',DoubleType(),True),\n",
    "                     StructField('atm_lon',DoubleType(),True),\n",
    "                     StructField('currency',StringType(),True),\n",
    "                     StructField('card_type',StringType(),True),\n",
    "                     StructField('transaction_amount',IntegerType(),True),\n",
    "                     StructField('service',StringType(),True),\n",
    "                     StructField('message_code',StringType(),True),\n",
    "                     StructField('message_text',StringType(),True),\n",
    "                     StructField('weather_lat',DoubleType(),True),\n",
    "                     StructField('weather_lon',DoubleType(),True),\n",
    "                     StructField('weather_city_id',IntegerType(),True),\n",
    "                     StructField('weather_city_name',StringType(),True),\n",
    "                     StructField('temp',DoubleType(),True),\n",
    "                     StructField('pressure',IntegerType(),True),\n",
    "                     StructField('humidity',IntegerType(),True),\n",
    "                     StructField('wind_speed',IntegerType(),True),\n",
    "                     StructField('wind_deg',IntegerType(),True),\n",
    "                     StructField('rain_3h',DoubleType(),True),\n",
    "                     StructField('clouds_all',IntegerType(),True),\n",
    "                     StructField('weather_id',IntegerType(),True),\n",
    "                     StructField('weather_main',StringType(),True),\n",
    "                     StructField('weather_description',StringType(),True)])\n"
   ]
  },
  {
   "cell_type": "code",
   "execution_count": 6,
   "id": "bd436431",
   "metadata": {},
   "outputs": [
    {
     "data": {
      "application/vnd.jupyter.widget-view+json": {
       "model_id": "",
       "version_major": 2,
       "version_minor": 0
      },
      "text/plain": [
       "FloatProgress(value=0.0, bar_style='info', description='Progress:', layout=Layout(height='25px', width='50%'),…"
      ]
     },
     "metadata": {},
     "output_type": "display_data"
    },
    {
     "name": "stdout",
     "output_type": "stream",
     "text": [
      "+----+-------+---+-------+----+----------+------+----------------+------------+-------------------+-----------------+------------+-------+-------+--------+----------+------------------+----------+------------+------------+-----------+-----------+---------------+-----------------+------+--------+--------+----------+--------+-------+----------+----------+------------+--------------------+\n",
      "|year|  month|day|weekday|hour|atm_status|atm_id|atm_manufacturer|atm_location|    atm_street_name|atm_street_number|atm_zip_code|atm_lat|atm_lon|currency| card_type|transaction_amount|   service|message_code|message_text|weather_lat|weather_lon|weather_city_id|weather_city_name|  temp|pressure|humidity|wind_speed|wind_deg|rain_3h|clouds_all|weather_id|weather_main| weather_description|\n",
      "+----+-------+---+-------+----+----------+------+----------------+------------+-------------------+-----------------+------------+-------+-------+--------+----------+------------------+----------+------------+------------+-----------+-----------+---------------+-----------------+------+--------+--------+----------+--------+-------+----------+----------+------------+--------------------+\n",
      "|2017|January|  1| Sunday|   0|    Active|     1|             NCR|  NÃƒÂ¦stved|        Farimagsvej|                8|        4700| 55.233| 11.763|     DKK|MasterCard|              5643|Withdrawal|        null|        null|      55.23|     11.761|        2616038|         Naestved|281.15|    1014|      87|         7|     260|  0.215|        92|       500|        Rain|          light rain|\n",
      "|2017|January|  1| Sunday|   0|  Inactive|     2|             NCR|    Vejgaard|         Hadsundvej|               20|        9000| 57.043|   9.95|     DKK|MasterCard|              1764|Withdrawal|        null|        null|     57.048|      9.935|        2616235|   NÃƒÂ¸rresundby|280.64|    1020|      93|         9|     250|   0.59|        92|       500|        Rain|          light rain|\n",
      "|2017|January|  1| Sunday|   0|  Inactive|     2|             NCR|    Vejgaard|         Hadsundvej|               20|        9000| 57.043|   9.95|     DKK|      VISA|              1891|Withdrawal|        null|        null|     57.048|      9.935|        2616235|   NÃƒÂ¸rresundby|280.64|    1020|      93|         9|     250|   0.59|        92|       500|        Rain|          light rain|\n",
      "|2017|January|  1| Sunday|   0|  Inactive|     3|             NCR|       Ikast|RÃƒÂ¥dhusstrÃƒÂ¦det|               12|        7430| 56.139|  9.154|     DKK|      VISA|              4166|Withdrawal|        null|        null|     56.139|      9.158|        2619426|            Ikast|281.15|    1011|     100|         6|     240|    0.0|        75|       300|     Drizzle|light intensity d...|\n",
      "|2017|January|  1| Sunday|   0|    Active|     4|             NCR|  Svogerslev|       BrÃƒÂ¸nsager|                1|        4000| 55.634| 12.018|     DKK|MasterCard|              5153|Withdrawal|        null|        null|     55.642|      12.08|        2614481|         Roskilde|280.61|    1014|      87|         7|     260|    0.0|        88|       701|        Mist|                mist|\n",
      "+----+-------+---+-------+----+----------+------+----------------+------------+-------------------+-----------------+------------+-------+-------+--------+----------+------------------+----------+------------+------------+-----------+-----------+---------------+-----------------+------+--------+--------+----------+--------+-------+----------+----------+------------+--------------------+\n",
      "only showing top 5 rows"
     ]
    }
   ],
   "source": [
    "### loading the data with the created schema\n",
    "df = spark.read.load(path='/user/root/Spar_Nord_Bank_ATM_Data/part-m-00000',format='csv',schema=schema,header=False)\n",
    "df.show(5)"
   ]
  },
  {
   "cell_type": "code",
   "execution_count": 7,
   "id": "3d217a7d",
   "metadata": {},
   "outputs": [
    {
     "data": {
      "application/vnd.jupyter.widget-view+json": {
       "model_id": "",
       "version_major": 2,
       "version_minor": 0
      },
      "text/plain": [
       "FloatProgress(value=0.0, bar_style='info', description='Progress:', layout=Layout(height='25px', width='50%'),…"
      ]
     },
     "metadata": {},
     "output_type": "display_data"
    },
    {
     "name": "stdout",
     "output_type": "stream",
     "text": [
      "2468572"
     ]
    }
   ],
   "source": [
    "### checking for the number of records in the dataset\n",
    "df.select('*').count()"
   ]
  },
  {
   "cell_type": "code",
   "execution_count": 8,
   "id": "25769025",
   "metadata": {},
   "outputs": [
    {
     "data": {
      "application/vnd.jupyter.widget-view+json": {
       "model_id": "",
       "version_major": 2,
       "version_minor": 0
      },
      "text/plain": [
       "FloatProgress(value=0.0, bar_style='info', description='Progress:', layout=Layout(height='25px', width='50%'),…"
      ]
     },
     "metadata": {},
     "output_type": "display_data"
    },
    {
     "name": "stdout",
     "output_type": "stream",
     "text": [
      "root\n",
      " |-- year: integer (nullable = true)\n",
      " |-- month: string (nullable = true)\n",
      " |-- day: integer (nullable = true)\n",
      " |-- weekday: string (nullable = true)\n",
      " |-- hour: integer (nullable = true)\n",
      " |-- atm_status: string (nullable = true)\n",
      " |-- atm_id: string (nullable = true)\n",
      " |-- atm_manufacturer: string (nullable = true)\n",
      " |-- atm_location: string (nullable = true)\n",
      " |-- atm_street_name: string (nullable = true)\n",
      " |-- atm_street_number: integer (nullable = true)\n",
      " |-- atm_zip_code: integer (nullable = true)\n",
      " |-- atm_lat: double (nullable = true)\n",
      " |-- atm_lon: double (nullable = true)\n",
      " |-- currency: string (nullable = true)\n",
      " |-- card_type: string (nullable = true)\n",
      " |-- transaction_amount: integer (nullable = true)\n",
      " |-- service: string (nullable = true)\n",
      " |-- message_code: string (nullable = true)\n",
      " |-- message_text: string (nullable = true)\n",
      " |-- weather_lat: double (nullable = true)\n",
      " |-- weather_lon: double (nullable = true)\n",
      " |-- weather_city_id: integer (nullable = true)\n",
      " |-- weather_city_name: string (nullable = true)\n",
      " |-- temp: double (nullable = true)\n",
      " |-- pressure: integer (nullable = true)\n",
      " |-- humidity: integer (nullable = true)\n",
      " |-- wind_speed: integer (nullable = true)\n",
      " |-- wind_deg: integer (nullable = true)\n",
      " |-- rain_3h: double (nullable = true)\n",
      " |-- clouds_all: integer (nullable = true)\n",
      " |-- weather_id: integer (nullable = true)\n",
      " |-- weather_main: string (nullable = true)\n",
      " |-- weather_description: string (nullable = true)"
     ]
    }
   ],
   "source": [
    "### Printing the schema \n",
    "df.printSchema()"
   ]
  },
  {
   "cell_type": "markdown",
   "id": "5ff2c36d",
   "metadata": {},
   "source": [
    "### Creating Dimensions and Fact tables for further processing of data"
   ]
  },
  {
   "cell_type": "markdown",
   "id": "5ca045a7",
   "metadata": {},
   "source": [
    "##### Dimensions tables : Location , ATM , Date , Card"
   ]
  },
  {
   "cell_type": "markdown",
   "id": "97d4ccb7",
   "metadata": {},
   "source": [
    "##### Location Dimension table"
   ]
  },
  {
   "cell_type": "code",
   "execution_count": 9,
   "id": "70cf95e1",
   "metadata": {},
   "outputs": [
    {
     "data": {
      "application/vnd.jupyter.widget-view+json": {
       "model_id": "",
       "version_major": 2,
       "version_minor": 0
      },
      "text/plain": [
       "FloatProgress(value=0.0, bar_style='info', description='Progress:', layout=Layout(height='25px', width='50%'),…"
      ]
     },
     "metadata": {},
     "output_type": "display_data"
    }
   ],
   "source": [
    "### selecting distinct records for location dimension tables\n",
    "df_loc = df.select('atm_location','atm_street_name','atm_street_number','atm_zip_code','atm_lat','atm_lon').distinct()"
   ]
  },
  {
   "cell_type": "code",
   "execution_count": 10,
   "id": "4c4778a0",
   "metadata": {},
   "outputs": [
    {
     "data": {
      "application/vnd.jupyter.widget-view+json": {
       "model_id": "",
       "version_major": 2,
       "version_minor": 0
      },
      "text/plain": [
       "FloatProgress(value=0.0, bar_style='info', description='Progress:', layout=Layout(height='25px', width='50%'),…"
      ]
     },
     "metadata": {},
     "output_type": "display_data"
    }
   ],
   "source": [
    "### adding a primary key for location dimension table\n",
    "df_loc = df_loc.withColumn('loc_id',row_number().over(Window.partitionBy().orderBy(df['atm_location'])))"
   ]
  },
  {
   "cell_type": "code",
   "execution_count": 11,
   "id": "e43ae269",
   "metadata": {},
   "outputs": [
    {
     "data": {
      "application/vnd.jupyter.widget-view+json": {
       "model_id": "",
       "version_major": 2,
       "version_minor": 0
      },
      "text/plain": [
       "FloatProgress(value=0.0, bar_style='info', description='Progress:', layout=Layout(height='25px', width='50%'),…"
      ]
     },
     "metadata": {},
     "output_type": "display_data"
    },
    {
     "name": "stdout",
     "output_type": "stream",
     "text": [
      "+------------+---------------+-----------------+------------+-------+-------+------+\n",
      "|atm_location|atm_street_name|atm_street_number|atm_zip_code|atm_lat|atm_lon|loc_id|\n",
      "+------------+---------------+-----------------+------------+-------+-------+------+\n",
      "|     Aabybro|   ÃƒËœstergade|                6|        9440| 57.162|   9.73|     1|\n",
      "+------------+---------------+-----------------+------------+-------+-------+------+\n",
      "only showing top 1 row"
     ]
    }
   ],
   "source": [
    "df_loc.show(1)"
   ]
  },
  {
   "cell_type": "code",
   "execution_count": 12,
   "id": "80bdd2a7",
   "metadata": {},
   "outputs": [
    {
     "data": {
      "application/vnd.jupyter.widget-view+json": {
       "model_id": "",
       "version_major": 2,
       "version_minor": 0
      },
      "text/plain": [
       "FloatProgress(value=0.0, bar_style='info', description='Progress:', layout=Layout(height='25px', width='50%'),…"
      ]
     },
     "metadata": {},
     "output_type": "display_data"
    }
   ],
   "source": [
    "### Renaming the location dimension table columns\n",
    "df_dim_loc = df_loc.withColumnRenamed('atm_location','location').withColumnRenamed('atm_street_name','street_name')\\\n",
    "               .withColumnRenamed('atm_street_number','street_number').withColumnRenamed('atm_zip_code','zipcode')\\\n",
    "               .withColumnRenamed('atm_lat','lat').withColumnRenamed('atm_lon','lon')\n"
   ]
  },
  {
   "cell_type": "code",
   "execution_count": 13,
   "id": "62f212b9",
   "metadata": {},
   "outputs": [
    {
     "data": {
      "application/vnd.jupyter.widget-view+json": {
       "model_id": "",
       "version_major": 2,
       "version_minor": 0
      },
      "text/plain": [
       "FloatProgress(value=0.0, bar_style='info', description='Progress:', layout=Layout(height='25px', width='50%'),…"
      ]
     },
     "metadata": {},
     "output_type": "display_data"
    },
    {
     "name": "stdout",
     "output_type": "stream",
     "text": [
      "+--------+------------+-------------+-------+------+----+------+\n",
      "|location| street_name|street_number|zipcode|   lat| lon|loc_id|\n",
      "+--------+------------+-------------+-------+------+----+------+\n",
      "| Aabybro|ÃƒËœstergade|            6|   9440|57.162|9.73|     1|\n",
      "+--------+------------+-------------+-------+------+----+------+\n",
      "only showing top 1 row"
     ]
    }
   ],
   "source": [
    "df_dim_loc.show(1)"
   ]
  },
  {
   "cell_type": "code",
   "execution_count": 14,
   "id": "59019b45",
   "metadata": {},
   "outputs": [
    {
     "data": {
      "application/vnd.jupyter.widget-view+json": {
       "model_id": "",
       "version_major": 2,
       "version_minor": 0
      },
      "text/plain": [
       "FloatProgress(value=0.0, bar_style='info', description='Progress:', layout=Layout(height='25px', width='50%'),…"
      ]
     },
     "metadata": {},
     "output_type": "display_data"
    }
   ],
   "source": [
    "### Rearranging the location dimension table \n",
    "df_dim_loc = df_dim_loc.select('loc_id','location','street_name','street_number','zipcode','lat','lon')\n"
   ]
  },
  {
   "cell_type": "code",
   "execution_count": 15,
   "id": "1648bb07",
   "metadata": {},
   "outputs": [
    {
     "data": {
      "application/vnd.jupyter.widget-view+json": {
       "model_id": "",
       "version_major": 2,
       "version_minor": 0
      },
      "text/plain": [
       "FloatProgress(value=0.0, bar_style='info', description='Progress:', layout=Layout(height='25px', width='50%'),…"
      ]
     },
     "metadata": {},
     "output_type": "display_data"
    },
    {
     "name": "stdout",
     "output_type": "stream",
     "text": [
      "['loc_id', 'location', 'street_name', 'street_number', 'zipcode', 'lat', 'lon']\n",
      "109"
     ]
    }
   ],
   "source": [
    "#### checking for the columns in location dimension table and the number of records\n",
    "print(df_dim_loc.columns)\n",
    "df_dim_loc.select('*').count()\n"
   ]
  },
  {
   "cell_type": "markdown",
   "id": "57a5ef77",
   "metadata": {},
   "source": [
    "##### ATM Dimension table"
   ]
  },
  {
   "cell_type": "code",
   "execution_count": 16,
   "id": "38fefe3a",
   "metadata": {},
   "outputs": [
    {
     "data": {
      "application/vnd.jupyter.widget-view+json": {
       "model_id": "",
       "version_major": 2,
       "version_minor": 0
      },
      "text/plain": [
       "FloatProgress(value=0.0, bar_style='info', description='Progress:', layout=Layout(height='25px', width='50%'),…"
      ]
     },
     "metadata": {},
     "output_type": "display_data"
    }
   ],
   "source": [
    "#### creating a dataframe with required columns\n",
    "df_atm = df.select('atm_id','atm_manufacturer','atm_lat','atm_lon')"
   ]
  },
  {
   "cell_type": "code",
   "execution_count": 17,
   "id": "b6520113",
   "metadata": {},
   "outputs": [
    {
     "data": {
      "application/vnd.jupyter.widget-view+json": {
       "model_id": "",
       "version_major": 2,
       "version_minor": 0
      },
      "text/plain": [
       "FloatProgress(value=0.0, bar_style='info', description='Progress:', layout=Layout(height='25px', width='50%'),…"
      ]
     },
     "metadata": {},
     "output_type": "display_data"
    }
   ],
   "source": [
    "### Renaming the column atm_id\n",
    "df_atm = df_atm.withColumnRenamed('atm_id','atm_number')"
   ]
  },
  {
   "cell_type": "code",
   "execution_count": 18,
   "id": "548de503",
   "metadata": {},
   "outputs": [
    {
     "data": {
      "application/vnd.jupyter.widget-view+json": {
       "model_id": "",
       "version_major": 2,
       "version_minor": 0
      },
      "text/plain": [
       "FloatProgress(value=0.0, bar_style='info', description='Progress:', layout=Layout(height='25px', width='50%'),…"
      ]
     },
     "metadata": {},
     "output_type": "display_data"
    }
   ],
   "source": [
    "### joining the location dimension table with atm dataframe\n",
    "df_atm  = df_atm.join(df_loc, on = ['atm_lat','atm_lon'], how = 'left')"
   ]
  },
  {
   "cell_type": "code",
   "execution_count": 19,
   "id": "2042944c",
   "metadata": {},
   "outputs": [
    {
     "data": {
      "application/vnd.jupyter.widget-view+json": {
       "model_id": "",
       "version_major": 2,
       "version_minor": 0
      },
      "text/plain": [
       "FloatProgress(value=0.0, bar_style='info', description='Progress:', layout=Layout(height='25px', width='50%'),…"
      ]
     },
     "metadata": {},
     "output_type": "display_data"
    },
    {
     "name": "stdout",
     "output_type": "stream",
     "text": [
      "['atm_lat', 'atm_lon', 'atm_number', 'atm_manufacturer', 'atm_location', 'atm_street_name', 'atm_street_number', 'atm_zip_code', 'loc_id']"
     ]
    }
   ],
   "source": [
    "#### checking the column in atm dataframe\n",
    "df_atm.columns"
   ]
  },
  {
   "cell_type": "code",
   "execution_count": 20,
   "id": "9178ebfe",
   "metadata": {},
   "outputs": [
    {
     "data": {
      "application/vnd.jupyter.widget-view+json": {
       "model_id": "",
       "version_major": 2,
       "version_minor": 0
      },
      "text/plain": [
       "FloatProgress(value=0.0, bar_style='info', description='Progress:', layout=Layout(height='25px', width='50%'),…"
      ]
     },
     "metadata": {},
     "output_type": "display_data"
    }
   ],
   "source": [
    "#### selecting the required columns with distinct records\n",
    "df_atm = df_atm.select('atm_number','atm_manufacturer','loc_id').distinct()"
   ]
  },
  {
   "cell_type": "code",
   "execution_count": 21,
   "id": "d2c13eff",
   "metadata": {},
   "outputs": [
    {
     "data": {
      "application/vnd.jupyter.widget-view+json": {
       "model_id": "",
       "version_major": 2,
       "version_minor": 0
      },
      "text/plain": [
       "FloatProgress(value=0.0, bar_style='info', description='Progress:', layout=Layout(height='25px', width='50%'),…"
      ]
     },
     "metadata": {},
     "output_type": "display_data"
    }
   ],
   "source": [
    "### renaming the column loc_id for ATM Dimension table\n",
    "df_dim_atm = df_atm.withColumnRenamed('loc_id','atm_loc_id')"
   ]
  },
  {
   "cell_type": "code",
   "execution_count": 22,
   "id": "0bc040bb",
   "metadata": {},
   "outputs": [
    {
     "data": {
      "application/vnd.jupyter.widget-view+json": {
       "model_id": "",
       "version_major": 2,
       "version_minor": 0
      },
      "text/plain": [
       "FloatProgress(value=0.0, bar_style='info', description='Progress:', layout=Layout(height='25px', width='50%'),…"
      ]
     },
     "metadata": {},
     "output_type": "display_data"
    },
    {
     "name": "stdout",
     "output_type": "stream",
     "text": [
      "['atm_number', 'atm_manufacturer', 'atm_loc_id']"
     ]
    }
   ],
   "source": [
    "### checking the columns \n",
    "df_dim_atm.columns"
   ]
  },
  {
   "cell_type": "code",
   "execution_count": 23,
   "id": "e2b24b06",
   "metadata": {},
   "outputs": [
    {
     "data": {
      "application/vnd.jupyter.widget-view+json": {
       "model_id": "",
       "version_major": 2,
       "version_minor": 0
      },
      "text/plain": [
       "FloatProgress(value=0.0, bar_style='info', description='Progress:', layout=Layout(height='25px', width='50%'),…"
      ]
     },
     "metadata": {},
     "output_type": "display_data"
    }
   ],
   "source": [
    "### adding a primary key for ATM dimension table\n",
    "df_dim_atm = df_dim_atm.withColumn('atm_id',row_number().over(Window.partitionBy().orderBy(df_dim_atm['atm_number'])))"
   ]
  },
  {
   "cell_type": "code",
   "execution_count": 24,
   "id": "c6d15b0e",
   "metadata": {},
   "outputs": [
    {
     "data": {
      "application/vnd.jupyter.widget-view+json": {
       "model_id": "",
       "version_major": 2,
       "version_minor": 0
      },
      "text/plain": [
       "FloatProgress(value=0.0, bar_style='info', description='Progress:', layout=Layout(height='25px', width='50%'),…"
      ]
     },
     "metadata": {},
     "output_type": "display_data"
    },
    {
     "name": "stdout",
     "output_type": "stream",
     "text": [
      "+----------+----------------+----------+------+\n",
      "|atm_number|atm_manufacturer|atm_loc_id|atm_id|\n",
      "+----------+----------------+----------+------+\n",
      "|         1|             NCR|        74|     1|\n",
      "|        10|             NCR|        76|     2|\n",
      "|       100|             NCR|        86|     3|\n",
      "|       100|             NCR|        56|     4|\n",
      "|       100|             NCR|        87|     5|\n",
      "+----------+----------------+----------+------+\n",
      "only showing top 5 rows"
     ]
    }
   ],
   "source": [
    "df_dim_atm.show(5)"
   ]
  },
  {
   "cell_type": "code",
   "execution_count": 25,
   "id": "6ec13677",
   "metadata": {},
   "outputs": [
    {
     "data": {
      "application/vnd.jupyter.widget-view+json": {
       "model_id": "",
       "version_major": 2,
       "version_minor": 0
      },
      "text/plain": [
       "FloatProgress(value=0.0, bar_style='info', description='Progress:', layout=Layout(height='25px', width='50%'),…"
      ]
     },
     "metadata": {},
     "output_type": "display_data"
    }
   ],
   "source": [
    "#### rearranging the columns in ATM dimension table\n",
    "df_dim_atm = df_dim_atm.select('atm_id','atm_number','atm_manufacturer','atm_loc_id')"
   ]
  },
  {
   "cell_type": "code",
   "execution_count": 26,
   "id": "84a0a719",
   "metadata": {},
   "outputs": [
    {
     "data": {
      "application/vnd.jupyter.widget-view+json": {
       "model_id": "",
       "version_major": 2,
       "version_minor": 0
      },
      "text/plain": [
       "FloatProgress(value=0.0, bar_style='info', description='Progress:', layout=Layout(height='25px', width='50%'),…"
      ]
     },
     "metadata": {},
     "output_type": "display_data"
    },
    {
     "name": "stdout",
     "output_type": "stream",
     "text": [
      "['atm_id', 'atm_number', 'atm_manufacturer', 'atm_loc_id']"
     ]
    }
   ],
   "source": [
    "#### checking for the columns in ATM dimension table\n",
    "df_dim_atm.columns"
   ]
  },
  {
   "cell_type": "code",
   "execution_count": 27,
   "id": "e6dd5a4d",
   "metadata": {},
   "outputs": [
    {
     "data": {
      "application/vnd.jupyter.widget-view+json": {
       "model_id": "",
       "version_major": 2,
       "version_minor": 0
      },
      "text/plain": [
       "FloatProgress(value=0.0, bar_style='info', description='Progress:', layout=Layout(height='25px', width='50%'),…"
      ]
     },
     "metadata": {},
     "output_type": "display_data"
    },
    {
     "name": "stdout",
     "output_type": "stream",
     "text": [
      "156"
     ]
    }
   ],
   "source": [
    "### Checking for number of records in the ATM dimension table\n",
    "df_dim_atm.select('*').count()"
   ]
  },
  {
   "cell_type": "markdown",
   "id": "a8b85bd0",
   "metadata": {},
   "source": [
    "##### Date Dimension Table"
   ]
  },
  {
   "cell_type": "code",
   "execution_count": 28,
   "id": "890a0674",
   "metadata": {},
   "outputs": [
    {
     "data": {
      "application/vnd.jupyter.widget-view+json": {
       "model_id": "",
       "version_major": 2,
       "version_minor": 0
      },
      "text/plain": [
       "FloatProgress(value=0.0, bar_style='info', description='Progress:', layout=Layout(height='25px', width='50%'),…"
      ]
     },
     "metadata": {},
     "output_type": "display_data"
    }
   ],
   "source": [
    "#### creating a dataframe for Date Dimension table\n",
    "df_date = df.select('year','month','day','hour','weekday')"
   ]
  },
  {
   "cell_type": "code",
   "execution_count": 29,
   "id": "8f84dcd3",
   "metadata": {},
   "outputs": [
    {
     "data": {
      "application/vnd.jupyter.widget-view+json": {
       "model_id": "",
       "version_major": 2,
       "version_minor": 0
      },
      "text/plain": [
       "FloatProgress(value=0.0, bar_style='info', description='Progress:', layout=Layout(height='25px', width='50%'),…"
      ]
     },
     "metadata": {},
     "output_type": "display_data"
    }
   ],
   "source": [
    "#### creating a full_date_time column\n",
    "df_date = df_date.withColumn('full_date',concat_ws('-',df_date.year,df_date.month,df_date.day))\n",
    "df_date = df_date.withColumn('full_time',concat_ws(':',df_date.hour,lit('00'),lit('00')))\n",
    "df_date = df_date.withColumn('full_date_time',concat_ws(' ',df_date.full_date,df_date.full_time))\n",
    "date_format = 'yyyy-MMMM-d H:mm:ss'\n",
    "df_date = df_date.withColumn('full_date_time',to_timestamp(df_date.full_date_time,date_format))"
   ]
  },
  {
   "cell_type": "code",
   "execution_count": 30,
   "id": "2a71a182",
   "metadata": {},
   "outputs": [
    {
     "data": {
      "application/vnd.jupyter.widget-view+json": {
       "model_id": "",
       "version_major": 2,
       "version_minor": 0
      },
      "text/plain": [
       "FloatProgress(value=0.0, bar_style='info', description='Progress:', layout=Layout(height='25px', width='50%'),…"
      ]
     },
     "metadata": {},
     "output_type": "display_data"
    },
    {
     "name": "stdout",
     "output_type": "stream",
     "text": [
      "+----+-------+---+----+-------+--------------+---------+-------------------+\n",
      "|year|  month|day|hour|weekday|     full_date|full_time|     full_date_time|\n",
      "+----+-------+---+----+-------+--------------+---------+-------------------+\n",
      "|2017|January|  1|   0| Sunday|2017-January-1|  0:00:00|2017-01-01 00:00:00|\n",
      "|2017|January|  1|   0| Sunday|2017-January-1|  0:00:00|2017-01-01 00:00:00|\n",
      "|2017|January|  1|   0| Sunday|2017-January-1|  0:00:00|2017-01-01 00:00:00|\n",
      "|2017|January|  1|   0| Sunday|2017-January-1|  0:00:00|2017-01-01 00:00:00|\n",
      "|2017|January|  1|   0| Sunday|2017-January-1|  0:00:00|2017-01-01 00:00:00|\n",
      "+----+-------+---+----+-------+--------------+---------+-------------------+\n",
      "only showing top 5 rows"
     ]
    }
   ],
   "source": [
    "df_date.show(5)"
   ]
  },
  {
   "cell_type": "code",
   "execution_count": 31,
   "id": "07e1cf21",
   "metadata": {},
   "outputs": [
    {
     "data": {
      "application/vnd.jupyter.widget-view+json": {
       "model_id": "",
       "version_major": 2,
       "version_minor": 0
      },
      "text/plain": [
       "FloatProgress(value=0.0, bar_style='info', description='Progress:', layout=Layout(height='25px', width='50%'),…"
      ]
     },
     "metadata": {},
     "output_type": "display_data"
    }
   ],
   "source": [
    "#### selecting the required columns for date dimension table with distinct records\n",
    "df_dim_date = df_date.select('year','month','day','hour','weekday','full_date_time').distinct()"
   ]
  },
  {
   "cell_type": "code",
   "execution_count": 32,
   "id": "a4226c86",
   "metadata": {},
   "outputs": [
    {
     "data": {
      "application/vnd.jupyter.widget-view+json": {
       "model_id": "",
       "version_major": 2,
       "version_minor": 0
      },
      "text/plain": [
       "FloatProgress(value=0.0, bar_style='info', description='Progress:', layout=Layout(height='25px', width='50%'),…"
      ]
     },
     "metadata": {},
     "output_type": "display_data"
    },
    {
     "name": "stdout",
     "output_type": "stream",
     "text": [
      "+----+-------+---+----+-------+-------------------+-------+\n",
      "|year|  month|day|hour|weekday|     full_date_time|date_id|\n",
      "+----+-------+---+----+-------+-------------------+-------+\n",
      "|2017|January|  1|   0| Sunday|2017-01-01 00:00:00|      1|\n",
      "|2017|January|  1|   1| Sunday|2017-01-01 01:00:00|      2|\n",
      "|2017|January|  1|   2| Sunday|2017-01-01 02:00:00|      3|\n",
      "|2017|January|  1|   3| Sunday|2017-01-01 03:00:00|      4|\n",
      "|2017|January|  1|   4| Sunday|2017-01-01 04:00:00|      5|\n",
      "|2017|January|  1|   5| Sunday|2017-01-01 05:00:00|      6|\n",
      "|2017|January|  1|   6| Sunday|2017-01-01 06:00:00|      7|\n",
      "|2017|January|  1|   7| Sunday|2017-01-01 07:00:00|      8|\n",
      "|2017|January|  1|   8| Sunday|2017-01-01 08:00:00|      9|\n",
      "|2017|January|  1|   9| Sunday|2017-01-01 09:00:00|     10|\n",
      "+----+-------+---+----+-------+-------------------+-------+\n",
      "only showing top 10 rows"
     ]
    }
   ],
   "source": [
    "### Adding a primary key to the df_date\n",
    "df_dim_date = df_dim_date.withColumn('date_id',row_number().over(Window.partitionBy().orderBy('full_date_time')))\n",
    "df_dim_date.show(10)"
   ]
  },
  {
   "cell_type": "code",
   "execution_count": 33,
   "id": "23d1c46b",
   "metadata": {},
   "outputs": [
    {
     "data": {
      "application/vnd.jupyter.widget-view+json": {
       "model_id": "",
       "version_major": 2,
       "version_minor": 0
      },
      "text/plain": [
       "FloatProgress(value=0.0, bar_style='info', description='Progress:', layout=Layout(height='25px', width='50%'),…"
      ]
     },
     "metadata": {},
     "output_type": "display_data"
    },
    {
     "name": "stdout",
     "output_type": "stream",
     "text": [
      "+-------+-------------------+----+-------+---+----+-------+\n",
      "|date_id|     full_date_time|year|  month|day|hour|weekday|\n",
      "+-------+-------------------+----+-------+---+----+-------+\n",
      "|      1|2017-01-01 00:00:00|2017|January|  1|   0| Sunday|\n",
      "|      2|2017-01-01 01:00:00|2017|January|  1|   1| Sunday|\n",
      "|      3|2017-01-01 02:00:00|2017|January|  1|   2| Sunday|\n",
      "|      4|2017-01-01 03:00:00|2017|January|  1|   3| Sunday|\n",
      "|      5|2017-01-01 04:00:00|2017|January|  1|   4| Sunday|\n",
      "+-------+-------------------+----+-------+---+----+-------+\n",
      "only showing top 5 rows"
     ]
    }
   ],
   "source": [
    "#### re-arranging the columns for date dimension table\n",
    "df_dim_date = df_dim_date.select('date_id','full_date_time','year','month','day','hour','weekday')\n",
    "df_dim_date.show(5)"
   ]
  },
  {
   "cell_type": "code",
   "execution_count": 34,
   "id": "4bf01783",
   "metadata": {},
   "outputs": [
    {
     "data": {
      "application/vnd.jupyter.widget-view+json": {
       "model_id": "",
       "version_major": 2,
       "version_minor": 0
      },
      "text/plain": [
       "FloatProgress(value=0.0, bar_style='info', description='Progress:', layout=Layout(height='25px', width='50%'),…"
      ]
     },
     "metadata": {},
     "output_type": "display_data"
    },
    {
     "name": "stdout",
     "output_type": "stream",
     "text": [
      "['date_id', 'full_date_time', 'year', 'month', 'day', 'hour', 'weekday']"
     ]
    }
   ],
   "source": [
    "#### checking for the columns in date dimension table\n",
    "df_dim_date.columns"
   ]
  },
  {
   "cell_type": "code",
   "execution_count": 35,
   "id": "bf31bf11",
   "metadata": {},
   "outputs": [
    {
     "data": {
      "application/vnd.jupyter.widget-view+json": {
       "model_id": "",
       "version_major": 2,
       "version_minor": 0
      },
      "text/plain": [
       "FloatProgress(value=0.0, bar_style='info', description='Progress:', layout=Layout(height='25px', width='50%'),…"
      ]
     },
     "metadata": {},
     "output_type": "display_data"
    },
    {
     "name": "stdout",
     "output_type": "stream",
     "text": [
      "8685"
     ]
    }
   ],
   "source": [
    "#### Checking for number of records in date dimension table\n",
    "df_dim_date.select('*').count()"
   ]
  },
  {
   "cell_type": "markdown",
   "id": "3812453a",
   "metadata": {},
   "source": [
    "##### Card Dimension Table"
   ]
  },
  {
   "cell_type": "code",
   "execution_count": 36,
   "id": "06968253",
   "metadata": {},
   "outputs": [
    {
     "data": {
      "application/vnd.jupyter.widget-view+json": {
       "model_id": "",
       "version_major": 2,
       "version_minor": 0
      },
      "text/plain": [
       "FloatProgress(value=0.0, bar_style='info', description='Progress:', layout=Layout(height='25px', width='50%'),…"
      ]
     },
     "metadata": {},
     "output_type": "display_data"
    }
   ],
   "source": [
    "#### creating a card dataframe for dimension table with distinct records\n",
    "df_card = df.select('card_type').distinct()"
   ]
  },
  {
   "cell_type": "code",
   "execution_count": 37,
   "id": "3c3339e0",
   "metadata": {},
   "outputs": [
    {
     "data": {
      "application/vnd.jupyter.widget-view+json": {
       "model_id": "",
       "version_major": 2,
       "version_minor": 0
      },
      "text/plain": [
       "FloatProgress(value=0.0, bar_style='info', description='Progress:', layout=Layout(height='25px', width='50%'),…"
      ]
     },
     "metadata": {},
     "output_type": "display_data"
    },
    {
     "name": "stdout",
     "output_type": "stream",
     "text": [
      "+-------------------+------------+\n",
      "|          card_type|card_type_id|\n",
      "+-------------------+------------+\n",
      "|             CIRRUS|           1|\n",
      "|            Dankort|           2|\n",
      "|    Dankort - on-us|           3|\n",
      "|        HÃƒÂ¦vekort|           4|\n",
      "|HÃƒÂ¦vekort - on-us|           5|\n",
      "+-------------------+------------+\n",
      "only showing top 5 rows"
     ]
    }
   ],
   "source": [
    "##### creating the primary key for card dimension table\n",
    "df_dim_card = df_card.withColumn('card_type_id',row_number().over(Window.partitionBy().orderBy('card_type')))\n",
    "df_dim_card.show(5)"
   ]
  },
  {
   "cell_type": "code",
   "execution_count": 38,
   "id": "1455e3da",
   "metadata": {},
   "outputs": [
    {
     "data": {
      "application/vnd.jupyter.widget-view+json": {
       "model_id": "",
       "version_major": 2,
       "version_minor": 0
      },
      "text/plain": [
       "FloatProgress(value=0.0, bar_style='info', description='Progress:', layout=Layout(height='25px', width='50%'),…"
      ]
     },
     "metadata": {},
     "output_type": "display_data"
    },
    {
     "name": "stdout",
     "output_type": "stream",
     "text": [
      "+------------+-------------------+\n",
      "|card_type_id|          card_type|\n",
      "+------------+-------------------+\n",
      "|           1|             CIRRUS|\n",
      "|           2|            Dankort|\n",
      "|           3|    Dankort - on-us|\n",
      "|           4|        HÃƒÂ¦vekort|\n",
      "|           5|HÃƒÂ¦vekort - on-us|\n",
      "+------------+-------------------+\n",
      "only showing top 5 rows"
     ]
    }
   ],
   "source": [
    "### re-arranging the columns for date dimension table\n",
    "df_dim_card = df_dim_card.select('card_type_id','card_type')\n",
    "df_dim_card.show(5)"
   ]
  },
  {
   "cell_type": "code",
   "execution_count": 39,
   "id": "4c575444",
   "metadata": {},
   "outputs": [
    {
     "data": {
      "application/vnd.jupyter.widget-view+json": {
       "model_id": "",
       "version_major": 2,
       "version_minor": 0
      },
      "text/plain": [
       "FloatProgress(value=0.0, bar_style='info', description='Progress:', layout=Layout(height='25px', width='50%'),…"
      ]
     },
     "metadata": {},
     "output_type": "display_data"
    },
    {
     "name": "stdout",
     "output_type": "stream",
     "text": [
      "['card_type_id', 'card_type']"
     ]
    }
   ],
   "source": [
    "### checking for columns present in date dimension table\n",
    "df_dim_card.columns"
   ]
  },
  {
   "cell_type": "code",
   "execution_count": 40,
   "id": "673e4599",
   "metadata": {},
   "outputs": [
    {
     "data": {
      "application/vnd.jupyter.widget-view+json": {
       "model_id": "",
       "version_major": 2,
       "version_minor": 0
      },
      "text/plain": [
       "FloatProgress(value=0.0, bar_style='info', description='Progress:', layout=Layout(height='25px', width='50%'),…"
      ]
     },
     "metadata": {},
     "output_type": "display_data"
    },
    {
     "name": "stdout",
     "output_type": "stream",
     "text": [
      "12"
     ]
    }
   ],
   "source": [
    "#### checking for number of records\n",
    "df_dim_card.select('*').count()"
   ]
  },
  {
   "cell_type": "markdown",
   "id": "5c05d69e",
   "metadata": {},
   "source": [
    "### Fact Table "
   ]
  },
  {
   "cell_type": "code",
   "execution_count": 41,
   "id": "db70c8ca",
   "metadata": {},
   "outputs": [
    {
     "data": {
      "application/vnd.jupyter.widget-view+json": {
       "model_id": "",
       "version_major": 2,
       "version_minor": 0
      },
      "text/plain": [
       "FloatProgress(value=0.0, bar_style='info', description='Progress:', layout=Layout(height='25px', width='50%'),…"
      ]
     },
     "metadata": {},
     "output_type": "display_data"
    }
   ],
   "source": [
    "### renaming the required columns before joining the original dataframe with location dimension table\n",
    "df_fact_loc = df.withColumnRenamed('atm_location','location').withColumnRenamed('atm_street_name','street_name')\\\n",
    "                .withColumnRenamed('atm_street_number','street_number').withColumnRenamed('atm_zip_code','zipcode')\\\n",
    "                .withColumnRenamed('atm_lat','lat').withColumnRenamed('atm_lon','lon')"
   ]
  },
  {
   "cell_type": "code",
   "execution_count": 42,
   "id": "79360952",
   "metadata": {},
   "outputs": [
    {
     "data": {
      "application/vnd.jupyter.widget-view+json": {
       "model_id": "",
       "version_major": 2,
       "version_minor": 0
      },
      "text/plain": [
       "FloatProgress(value=0.0, bar_style='info', description='Progress:', layout=Layout(height='25px', width='50%'),…"
      ]
     },
     "metadata": {},
     "output_type": "display_data"
    }
   ],
   "source": [
    "### joining the spar nord dataframe with location dimension table\n",
    "df_fact_loc = df_fact_loc.join(df_dim_loc, on = ['location','street_name','street_number','zipcode','lat','lon'],how='left')"
   ]
  },
  {
   "cell_type": "code",
   "execution_count": 43,
   "id": "59f846db",
   "metadata": {},
   "outputs": [
    {
     "data": {
      "application/vnd.jupyter.widget-view+json": {
       "model_id": "",
       "version_major": 2,
       "version_minor": 0
      },
      "text/plain": [
       "FloatProgress(value=0.0, bar_style='info', description='Progress:', layout=Layout(height='25px', width='50%'),…"
      ]
     },
     "metadata": {},
     "output_type": "display_data"
    },
    {
     "name": "stdout",
     "output_type": "stream",
     "text": [
      "['location', 'street_name', 'street_number', 'zipcode', 'lat', 'lon', 'year', 'month', 'day', 'weekday', 'hour', 'atm_status', 'atm_id', 'atm_manufacturer', 'currency', 'card_type', 'transaction_amount', 'service', 'message_code', 'message_text', 'weather_lat', 'weather_lon', 'weather_city_id', 'weather_city_name', 'temp', 'pressure', 'humidity', 'wind_speed', 'wind_deg', 'rain_3h', 'clouds_all', 'weather_id', 'weather_main', 'weather_description', 'loc_id']"
     ]
    }
   ],
   "source": [
    "### checking for columns \n",
    "df_fact_loc.columns"
   ]
  },
  {
   "cell_type": "code",
   "execution_count": 44,
   "id": "a6b486b5",
   "metadata": {},
   "outputs": [
    {
     "data": {
      "application/vnd.jupyter.widget-view+json": {
       "model_id": "",
       "version_major": 2,
       "version_minor": 0
      },
      "text/plain": [
       "FloatProgress(value=0.0, bar_style='info', description='Progress:', layout=Layout(height='25px', width='50%'),…"
      ]
     },
     "metadata": {},
     "output_type": "display_data"
    },
    {
     "name": "stdout",
     "output_type": "stream",
     "text": [
      "2468572"
     ]
    }
   ],
   "source": [
    "### checking the number of records \n",
    "df_fact_loc.select('*').count()"
   ]
  },
  {
   "cell_type": "code",
   "execution_count": 45,
   "id": "b88bf7fe",
   "metadata": {},
   "outputs": [
    {
     "data": {
      "application/vnd.jupyter.widget-view+json": {
       "model_id": "",
       "version_major": 2,
       "version_minor": 0
      },
      "text/plain": [
       "FloatProgress(value=0.0, bar_style='info', description='Progress:', layout=Layout(height='25px', width='50%'),…"
      ]
     },
     "metadata": {},
     "output_type": "display_data"
    }
   ],
   "source": [
    "### renaming the required columns before joining the atm dimension table with fact table\n",
    "df_fact_loc = df_fact_loc.withColumnRenamed('atm_id','atm_number').withColumnRenamed('loc_id','atm_loc_id')"
   ]
  },
  {
   "cell_type": "code",
   "execution_count": 46,
   "id": "e38a0c69",
   "metadata": {},
   "outputs": [
    {
     "data": {
      "application/vnd.jupyter.widget-view+json": {
       "model_id": "",
       "version_major": 2,
       "version_minor": 0
      },
      "text/plain": [
       "FloatProgress(value=0.0, bar_style='info', description='Progress:', layout=Layout(height='25px', width='50%'),…"
      ]
     },
     "metadata": {},
     "output_type": "display_data"
    }
   ],
   "source": [
    "### joining the atm dimension with the fact table\n",
    "df_fact_atm = df_fact_loc.join(df_dim_atm, on = ['atm_number','atm_manufacturer','atm_loc_id'],how = 'left')"
   ]
  },
  {
   "cell_type": "code",
   "execution_count": 47,
   "id": "0c085d65",
   "metadata": {},
   "outputs": [
    {
     "data": {
      "application/vnd.jupyter.widget-view+json": {
       "model_id": "",
       "version_major": 2,
       "version_minor": 0
      },
      "text/plain": [
       "FloatProgress(value=0.0, bar_style='info', description='Progress:', layout=Layout(height='25px', width='50%'),…"
      ]
     },
     "metadata": {},
     "output_type": "display_data"
    }
   ],
   "source": [
    "#### renaming the column\n",
    "df_fact_atm  = df_fact_atm.withColumnRenamed('atm_loc_id','weather_loc_id')"
   ]
  },
  {
   "cell_type": "code",
   "execution_count": 48,
   "id": "64daafc6",
   "metadata": {},
   "outputs": [
    {
     "data": {
      "application/vnd.jupyter.widget-view+json": {
       "model_id": "",
       "version_major": 2,
       "version_minor": 0
      },
      "text/plain": [
       "FloatProgress(value=0.0, bar_style='info', description='Progress:', layout=Layout(height='25px', width='50%'),…"
      ]
     },
     "metadata": {},
     "output_type": "display_data"
    },
    {
     "name": "stdout",
     "output_type": "stream",
     "text": [
      "2468572"
     ]
    }
   ],
   "source": [
    "### Checking for number of records\n",
    "df_fact_atm.select('*').count()"
   ]
  },
  {
   "cell_type": "code",
   "execution_count": 49,
   "id": "3baa1fad",
   "metadata": {},
   "outputs": [
    {
     "data": {
      "application/vnd.jupyter.widget-view+json": {
       "model_id": "",
       "version_major": 2,
       "version_minor": 0
      },
      "text/plain": [
       "FloatProgress(value=0.0, bar_style='info', description='Progress:', layout=Layout(height='25px', width='50%'),…"
      ]
     },
     "metadata": {},
     "output_type": "display_data"
    }
   ],
   "source": [
    "### joining the df_fact_atm with date dimension table\n",
    "df_fact_date = df_fact_atm.join(df_dim_date, on = ['year','month','day','hour','weekday'], how = 'left')"
   ]
  },
  {
   "cell_type": "code",
   "execution_count": 50,
   "id": "fb28c5a2",
   "metadata": {},
   "outputs": [
    {
     "data": {
      "application/vnd.jupyter.widget-view+json": {
       "model_id": "",
       "version_major": 2,
       "version_minor": 0
      },
      "text/plain": [
       "FloatProgress(value=0.0, bar_style='info', description='Progress:', layout=Layout(height='25px', width='50%'),…"
      ]
     },
     "metadata": {},
     "output_type": "display_data"
    },
    {
     "name": "stdout",
     "output_type": "stream",
     "text": [
      "2468572"
     ]
    }
   ],
   "source": [
    "### Checking for nunber of records\n",
    "df_fact_date.select('*').count()"
   ]
  },
  {
   "cell_type": "code",
   "execution_count": 51,
   "id": "5d751409",
   "metadata": {},
   "outputs": [
    {
     "data": {
      "application/vnd.jupyter.widget-view+json": {
       "model_id": "",
       "version_major": 2,
       "version_minor": 0
      },
      "text/plain": [
       "FloatProgress(value=0.0, bar_style='info', description='Progress:', layout=Layout(height='25px', width='50%'),…"
      ]
     },
     "metadata": {},
     "output_type": "display_data"
    }
   ],
   "source": [
    "### joining the df_fact_date with card dimension table\n",
    "df_fact_trans = df_fact_date.join(df_dim_card, on = ['card_type'] , how = 'left')"
   ]
  },
  {
   "cell_type": "code",
   "execution_count": 52,
   "id": "2617c28a",
   "metadata": {},
   "outputs": [
    {
     "data": {
      "application/vnd.jupyter.widget-view+json": {
       "model_id": "",
       "version_major": 2,
       "version_minor": 0
      },
      "text/plain": [
       "FloatProgress(value=0.0, bar_style='info', description='Progress:', layout=Layout(height='25px', width='50%'),…"
      ]
     },
     "metadata": {},
     "output_type": "display_data"
    },
    {
     "name": "stdout",
     "output_type": "stream",
     "text": [
      "2468572"
     ]
    }
   ],
   "source": [
    "### Checking for number of records\n",
    "df_fact_trans.select('*').count()"
   ]
  },
  {
   "cell_type": "code",
   "execution_count": 58,
   "id": "6484096c",
   "metadata": {},
   "outputs": [
    {
     "data": {
      "application/vnd.jupyter.widget-view+json": {
       "model_id": "",
       "version_major": 2,
       "version_minor": 0
      },
      "text/plain": [
       "FloatProgress(value=0.0, bar_style='info', description='Progress:', layout=Layout(height='25px', width='50%'),…"
      ]
     },
     "metadata": {},
     "output_type": "display_data"
    },
    {
     "name": "stdout",
     "output_type": "stream",
     "text": [
      "+--------+------+--------------+-------+------------+----------+--------+----------+------------------+------------+------------+-------+----------+----------+------------+--------------------+\n",
      "|trans_id|atm_id|weather_loc_id|date_id|card_type_id|atm_status|currency|   service|transaction_amount|message_code|message_text|rain_3h|clouds_all|weather_id|weather_main| weather_description|\n",
      "+--------+------+--------------+-------+------------+----------+--------+----------+------------------+------------+------------+-------+----------+----------+------------+--------------------+\n",
      "|       1|   119|            30|      1|           7|    Active|     DKK|Withdrawal|               470|        null|        null|    0.0|        75|       300|     Drizzle|light intensity d...|\n",
      "+--------+------+--------------+-------+------------+----------+--------+----------+------------------+------------+------------+-------+----------+----------+------------+--------------------+\n",
      "only showing top 1 row"
     ]
    }
   ],
   "source": [
    "### creating a primary key for fact table\n",
    "df_fact_trans = df_fact_trans.withColumn('trans_id',row_number().over(Window.partitionBy().orderBy('date_id')))\n",
    "df_fact_trans.show(1,True)"
   ]
  },
  {
   "cell_type": "code",
   "execution_count": 59,
   "id": "061f4e9a",
   "metadata": {},
   "outputs": [
    {
     "data": {
      "application/vnd.jupyter.widget-view+json": {
       "model_id": "",
       "version_major": 2,
       "version_minor": 0
      },
      "text/plain": [
       "FloatProgress(value=0.0, bar_style='info', description='Progress:', layout=Layout(height='25px', width='50%'),…"
      ]
     },
     "metadata": {},
     "output_type": "display_data"
    },
    {
     "name": "stdout",
     "output_type": "stream",
     "text": [
      "['trans_id', 'atm_id', 'weather_loc_id', 'date_id', 'card_type_id', 'atm_status', 'currency', 'service', 'transaction_amount', 'message_code', 'message_text', 'rain_3h', 'clouds_all', 'weather_id', 'weather_main', 'weather_description']"
     ]
    }
   ],
   "source": [
    "### checking for columns\n",
    "df_fact_trans.columns"
   ]
  },
  {
   "cell_type": "code",
   "execution_count": 60,
   "id": "7d72a55d",
   "metadata": {},
   "outputs": [
    {
     "data": {
      "application/vnd.jupyter.widget-view+json": {
       "model_id": "",
       "version_major": 2,
       "version_minor": 0
      },
      "text/plain": [
       "FloatProgress(value=0.0, bar_style='info', description='Progress:', layout=Layout(height='25px', width='50%'),…"
      ]
     },
     "metadata": {},
     "output_type": "display_data"
    }
   ],
   "source": [
    "#### re-arranging and selecting the requierd columns for fact table\n",
    "df_fact_trans = df_fact_trans.select('trans_id','atm_id','weather_loc_id','date_id','card_type_id',\n",
    "                                     'atm_status','currency','service','transaction_amount','message_code',\n",
    "                                     'message_text','rain_3h','clouds_all','weather_id','weather_main','weather_description')"
   ]
  },
  {
   "cell_type": "code",
   "execution_count": 61,
   "id": "bbb00bf6",
   "metadata": {},
   "outputs": [
    {
     "data": {
      "application/vnd.jupyter.widget-view+json": {
       "model_id": "",
       "version_major": 2,
       "version_minor": 0
      },
      "text/plain": [
       "FloatProgress(value=0.0, bar_style='info', description='Progress:', layout=Layout(height='25px', width='50%'),…"
      ]
     },
     "metadata": {},
     "output_type": "display_data"
    },
    {
     "name": "stdout",
     "output_type": "stream",
     "text": [
      "['trans_id', 'atm_id', 'weather_loc_id', 'date_id', 'card_type_id', 'atm_status', 'currency', 'service', 'transaction_amount', 'message_code', 'message_text', 'rain_3h', 'clouds_all', 'weather_id', 'weather_main', 'weather_description']"
     ]
    }
   ],
   "source": [
    "#### checking for the columns\n",
    "df_fact_trans.columns"
   ]
  },
  {
   "cell_type": "code",
   "execution_count": 62,
   "id": "0c13566e",
   "metadata": {},
   "outputs": [
    {
     "data": {
      "application/vnd.jupyter.widget-view+json": {
       "model_id": "",
       "version_major": 2,
       "version_minor": 0
      },
      "text/plain": [
       "FloatProgress(value=0.0, bar_style='info', description='Progress:', layout=Layout(height='25px', width='50%'),…"
      ]
     },
     "metadata": {},
     "output_type": "display_data"
    },
    {
     "name": "stdout",
     "output_type": "stream",
     "text": [
      "2468572"
     ]
    }
   ],
   "source": [
    "#### checking for number of records\n",
    "df_fact_trans.select('*').count()"
   ]
  },
  {
   "cell_type": "markdown",
   "id": "e9ff6d5a",
   "metadata": {},
   "source": [
    "### Writing fact and dimension table to AWS S3 "
   ]
  },
  {
   "cell_type": "code",
   "execution_count": 63,
   "id": "0a497b22",
   "metadata": {},
   "outputs": [
    {
     "data": {
      "application/vnd.jupyter.widget-view+json": {
       "model_id": "",
       "version_major": 2,
       "version_minor": 0
      },
      "text/plain": [
       "FloatProgress(value=0.0, bar_style='info', description='Progress:', layout=Layout(height='25px', width='50%'),…"
      ]
     },
     "metadata": {},
     "output_type": "display_data"
    }
   ],
   "source": [
    "### writing location dimension table to dimension_location folder in spar-nord-atm-pipeline\n",
    "df_dim_loc.coalesce(1).write.format('csv').option('header','false').save('s3://spar-nord-atm-pipeline/dimension_location',mode='overwrite')"
   ]
  },
  {
   "cell_type": "code",
   "execution_count": 64,
   "id": "33d8ef6a",
   "metadata": {},
   "outputs": [
    {
     "data": {
      "application/vnd.jupyter.widget-view+json": {
       "model_id": "",
       "version_major": 2,
       "version_minor": 0
      },
      "text/plain": [
       "FloatProgress(value=0.0, bar_style='info', description='Progress:', layout=Layout(height='25px', width='50%'),…"
      ]
     },
     "metadata": {},
     "output_type": "display_data"
    }
   ],
   "source": [
    "### writing atm dimension table to dimension_atm folder in spar-nord-atm-pipeline\n",
    "df_dim_atm.coalesce(1).write.format('csv').option('header','false').save('s3://spar-nord-atm-pipeline/dimension_atm',mode='overwrite')"
   ]
  },
  {
   "cell_type": "code",
   "execution_count": 65,
   "id": "beb9d02b",
   "metadata": {},
   "outputs": [
    {
     "data": {
      "application/vnd.jupyter.widget-view+json": {
       "model_id": "",
       "version_major": 2,
       "version_minor": 0
      },
      "text/plain": [
       "FloatProgress(value=0.0, bar_style='info', description='Progress:', layout=Layout(height='25px', width='50%'),…"
      ]
     },
     "metadata": {},
     "output_type": "display_data"
    }
   ],
   "source": [
    "### writing date dimension table to dimension_date folder in spar-nord-atm-pipeline\n",
    "df_dim_date.coalesce(1).write.format('csv').option('header','false').save('s3://spar-nord-atm-pipeline/dimension_date',mode='overwrite')"
   ]
  },
  {
   "cell_type": "code",
   "execution_count": 66,
   "id": "35ec0604",
   "metadata": {},
   "outputs": [
    {
     "data": {
      "application/vnd.jupyter.widget-view+json": {
       "model_id": "",
       "version_major": 2,
       "version_minor": 0
      },
      "text/plain": [
       "FloatProgress(value=0.0, bar_style='info', description='Progress:', layout=Layout(height='25px', width='50%'),…"
      ]
     },
     "metadata": {},
     "output_type": "display_data"
    }
   ],
   "source": [
    "### writing card dimension table to dimension_card folder in spar-nord-atm-pipeline\n",
    "df_dim_card.coalesce(1).write.format('csv').option('header','false').save('s3://spar-nord-atm-pipeline/dimension_card',mode='overwrite')"
   ]
  },
  {
   "cell_type": "code",
   "execution_count": 67,
   "id": "a5cb269c",
   "metadata": {},
   "outputs": [
    {
     "data": {
      "application/vnd.jupyter.widget-view+json": {
       "model_id": "",
       "version_major": 2,
       "version_minor": 0
      },
      "text/plain": [
       "FloatProgress(value=0.0, bar_style='info', description='Progress:', layout=Layout(height='25px', width='50%'),…"
      ]
     },
     "metadata": {},
     "output_type": "display_data"
    }
   ],
   "source": [
    "### writing fact transaction table to fact_transaction folder in spar-nord-atm-pipeline\n",
    "df_fact_trans.coalesce(1).write.format('csv').option('header','false').save('s3://spar-nord-atm-pipeline/fact_transaction',mode='overwrite')"
   ]
  },
  {
   "cell_type": "code",
   "execution_count": null,
   "id": "965ce5ae",
   "metadata": {},
   "outputs": [],
   "source": []
  }
 ],
 "metadata": {
  "kernelspec": {
   "display_name": "PySpark",
   "language": "python",
   "name": "pysparkkernel"
  },
  "language_info": {
   "codemirror_mode": {
    "name": "python",
    "version": 3
   },
   "file_extension": ".py",
   "mimetype": "text/x-python",
   "name": "pyspark",
   "pygments_lexer": "python3"
  }
 },
 "nbformat": 4,
 "nbformat_minor": 5
}
